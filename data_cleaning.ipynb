{
  "cells": [
    {
      "cell_type": "markdown",
      "metadata": {
        "id": "8V27vw3qK3mu"
      },
      "source": [
        "# Data Cleaning"
      ]
    },
    {
      "cell_type": "markdown",
      "metadata": {
        "id": "6ciBCwrAK3mx"
      },
      "source": [
        "After scraping the data, I needed to clean it up so that it was usable for our model. I made the following changes and created the following variables: Parsed numeric data out of salary,Made columns for employer provided salary and hourly wages,Removed rows without salary,Parsed rating out of company text,Made a new column for company state,Added a column for if the job was at the company’s headquarters,Transformed founded date into age of company\n",
        "Made columns for if different skills were listed in the job description:\n",
        "Python\n",
        "R\n",
        "Excel\n",
        "AWS\n",
        "Spark\n",
        "Column for simplified job title and Seniority\n",
        "Column for description length\n"
      ]
    },
    {
      "cell_type": "code",
      "execution_count": null,
      "metadata": {
        "id": "WB_eURFUK3my"
      },
      "outputs": [],
      "source": [
        "import pandas as pd\n",
        "import numpy as np\n",
        "import matplotlib.pyplot as plt"
      ]
    },
    {
      "cell_type": "code",
      "execution_count": null,
      "metadata": {
        "id": "6_bHygDQK3mz"
      },
      "outputs": [],
      "source": [
        "df=pd.read_csv('glassdoor_jobs.csv')\n",
        "# df.shape-This dataset contains record of 956 job openings"
      ]
    },
    {
      "cell_type": "code",
      "execution_count": null,
      "metadata": {
        "id": "Uq6pknZJK3m0",
        "outputId": "199a7a6d-57fd-4111-d860-639ef8d75f84"
      },
      "outputs": [
        {
          "data": {
            "text/html": [
              "<div>\n",
              "<style scoped>\n",
              "    .dataframe tbody tr th:only-of-type {\n",
              "        vertical-align: middle;\n",
              "    }\n",
              "\n",
              "    .dataframe tbody tr th {\n",
              "        vertical-align: top;\n",
              "    }\n",
              "\n",
              "    .dataframe thead th {\n",
              "        text-align: right;\n",
              "    }\n",
              "</style>\n",
              "<table border=\"1\" class=\"dataframe\">\n",
              "  <thead>\n",
              "    <tr style=\"text-align: right;\">\n",
              "      <th></th>\n",
              "      <th>Unnamed: 0</th>\n",
              "      <th>Job Title</th>\n",
              "      <th>Salary Estimate</th>\n",
              "      <th>Job Description</th>\n",
              "      <th>Rating</th>\n",
              "      <th>Company Name</th>\n",
              "      <th>Location</th>\n",
              "      <th>Headquarters</th>\n",
              "      <th>Size</th>\n",
              "      <th>Founded</th>\n",
              "      <th>Type of ownership</th>\n",
              "      <th>Industry</th>\n",
              "      <th>Sector</th>\n",
              "      <th>Revenue</th>\n",
              "      <th>Competitors</th>\n",
              "    </tr>\n",
              "  </thead>\n",
              "  <tbody>\n",
              "    <tr>\n",
              "      <th>0</th>\n",
              "      <td>0</td>\n",
              "      <td>Data Scientist</td>\n",
              "      <td>$53K-$91K (Glassdoor est.)</td>\n",
              "      <td>Data Scientist\\nLocation: Albuquerque, NM\\nEdu...</td>\n",
              "      <td>3.8</td>\n",
              "      <td>Tecolote Research\\n3.8</td>\n",
              "      <td>Albuquerque, NM</td>\n",
              "      <td>Goleta, CA</td>\n",
              "      <td>501 to 1000 employees</td>\n",
              "      <td>1973</td>\n",
              "      <td>Company - Private</td>\n",
              "      <td>Aerospace &amp; Defense</td>\n",
              "      <td>Aerospace &amp; Defense</td>\n",
              "      <td>$50 to $100 million (USD)</td>\n",
              "      <td>-1</td>\n",
              "    </tr>\n",
              "    <tr>\n",
              "      <th>1</th>\n",
              "      <td>1</td>\n",
              "      <td>Healthcare Data Scientist</td>\n",
              "      <td>$63K-$112K (Glassdoor est.)</td>\n",
              "      <td>What You Will Do:\\n\\nI. General Summary\\n\\nThe...</td>\n",
              "      <td>3.4</td>\n",
              "      <td>University of Maryland Medical System\\n3.4</td>\n",
              "      <td>Linthicum, MD</td>\n",
              "      <td>Baltimore, MD</td>\n",
              "      <td>10000+ employees</td>\n",
              "      <td>1984</td>\n",
              "      <td>Other Organization</td>\n",
              "      <td>Health Care Services &amp; Hospitals</td>\n",
              "      <td>Health Care</td>\n",
              "      <td>$2 to $5 billion (USD)</td>\n",
              "      <td>-1</td>\n",
              "    </tr>\n",
              "    <tr>\n",
              "      <th>2</th>\n",
              "      <td>2</td>\n",
              "      <td>Data Scientist</td>\n",
              "      <td>$80K-$90K (Glassdoor est.)</td>\n",
              "      <td>KnowBe4, Inc. is a high growth information sec...</td>\n",
              "      <td>4.8</td>\n",
              "      <td>KnowBe4\\n4.8</td>\n",
              "      <td>Clearwater, FL</td>\n",
              "      <td>Clearwater, FL</td>\n",
              "      <td>501 to 1000 employees</td>\n",
              "      <td>2010</td>\n",
              "      <td>Company - Private</td>\n",
              "      <td>Security Services</td>\n",
              "      <td>Business Services</td>\n",
              "      <td>$100 to $500 million (USD)</td>\n",
              "      <td>-1</td>\n",
              "    </tr>\n",
              "    <tr>\n",
              "      <th>3</th>\n",
              "      <td>3</td>\n",
              "      <td>Data Scientist</td>\n",
              "      <td>$56K-$97K (Glassdoor est.)</td>\n",
              "      <td>*Organization and Job ID**\\nJob ID: 310709\\n\\n...</td>\n",
              "      <td>3.8</td>\n",
              "      <td>PNNL\\n3.8</td>\n",
              "      <td>Richland, WA</td>\n",
              "      <td>Richland, WA</td>\n",
              "      <td>1001 to 5000 employees</td>\n",
              "      <td>1965</td>\n",
              "      <td>Government</td>\n",
              "      <td>Energy</td>\n",
              "      <td>Oil, Gas, Energy &amp; Utilities</td>\n",
              "      <td>$500 million to $1 billion (USD)</td>\n",
              "      <td>Oak Ridge National Laboratory, National Renewa...</td>\n",
              "    </tr>\n",
              "    <tr>\n",
              "      <th>4</th>\n",
              "      <td>4</td>\n",
              "      <td>Data Scientist</td>\n",
              "      <td>$86K-$143K (Glassdoor est.)</td>\n",
              "      <td>Data Scientist\\nAffinity Solutions / Marketing...</td>\n",
              "      <td>2.9</td>\n",
              "      <td>Affinity Solutions\\n2.9</td>\n",
              "      <td>New York, NY</td>\n",
              "      <td>New York, NY</td>\n",
              "      <td>51 to 200 employees</td>\n",
              "      <td>1998</td>\n",
              "      <td>Company - Private</td>\n",
              "      <td>Advertising &amp; Marketing</td>\n",
              "      <td>Business Services</td>\n",
              "      <td>Unknown / Non-Applicable</td>\n",
              "      <td>Commerce Signals, Cardlytics, Yodlee</td>\n",
              "    </tr>\n",
              "  </tbody>\n",
              "</table>\n",
              "</div>"
            ],
            "text/plain": [
              "   Unnamed: 0                  Job Title              Salary Estimate  \\\n",
              "0           0             Data Scientist   $53K-$91K (Glassdoor est.)   \n",
              "1           1  Healthcare Data Scientist  $63K-$112K (Glassdoor est.)   \n",
              "2           2             Data Scientist   $80K-$90K (Glassdoor est.)   \n",
              "3           3             Data Scientist   $56K-$97K (Glassdoor est.)   \n",
              "4           4             Data Scientist  $86K-$143K (Glassdoor est.)   \n",
              "\n",
              "                                     Job Description  Rating  \\\n",
              "0  Data Scientist\\nLocation: Albuquerque, NM\\nEdu...     3.8   \n",
              "1  What You Will Do:\\n\\nI. General Summary\\n\\nThe...     3.4   \n",
              "2  KnowBe4, Inc. is a high growth information sec...     4.8   \n",
              "3  *Organization and Job ID**\\nJob ID: 310709\\n\\n...     3.8   \n",
              "4  Data Scientist\\nAffinity Solutions / Marketing...     2.9   \n",
              "\n",
              "                                 Company Name         Location  \\\n",
              "0                      Tecolote Research\\n3.8  Albuquerque, NM   \n",
              "1  University of Maryland Medical System\\n3.4    Linthicum, MD   \n",
              "2                                KnowBe4\\n4.8   Clearwater, FL   \n",
              "3                                   PNNL\\n3.8     Richland, WA   \n",
              "4                     Affinity Solutions\\n2.9     New York, NY   \n",
              "\n",
              "     Headquarters                    Size  Founded   Type of ownership  \\\n",
              "0      Goleta, CA   501 to 1000 employees     1973   Company - Private   \n",
              "1   Baltimore, MD        10000+ employees     1984  Other Organization   \n",
              "2  Clearwater, FL   501 to 1000 employees     2010   Company - Private   \n",
              "3    Richland, WA  1001 to 5000 employees     1965          Government   \n",
              "4    New York, NY     51 to 200 employees     1998   Company - Private   \n",
              "\n",
              "                           Industry                        Sector  \\\n",
              "0               Aerospace & Defense           Aerospace & Defense   \n",
              "1  Health Care Services & Hospitals                   Health Care   \n",
              "2                 Security Services             Business Services   \n",
              "3                            Energy  Oil, Gas, Energy & Utilities   \n",
              "4           Advertising & Marketing             Business Services   \n",
              "\n",
              "                            Revenue  \\\n",
              "0         $50 to $100 million (USD)   \n",
              "1            $2 to $5 billion (USD)   \n",
              "2        $100 to $500 million (USD)   \n",
              "3  $500 million to $1 billion (USD)   \n",
              "4          Unknown / Non-Applicable   \n",
              "\n",
              "                                         Competitors  \n",
              "0                                                 -1  \n",
              "1                                                 -1  \n",
              "2                                                 -1  \n",
              "3  Oak Ridge National Laboratory, National Renewa...  \n",
              "4               Commerce Signals, Cardlytics, Yodlee  "
            ]
          },
          "execution_count": 6,
          "metadata": {},
          "output_type": "execute_result"
        }
      ],
      "source": [
        "df.head()"
      ]
    },
    {
      "cell_type": "code",
      "execution_count": null,
      "metadata": {
        "id": "-E-9K3HfK3m0"
      },
      "outputs": [],
      "source": [
        "# What all do we need to do to clean the data?\n",
        "# Salary parsing\n",
        "# Company name text only\n",
        "# State field\n",
        "# Age of Company\n",
        "# Parsing of Job Description(python etc.)\n",
        "\n"
      ]
    },
    {
      "cell_type": "code",
      "execution_count": null,
      "metadata": {
        "id": "h3i7c-EPK3m1"
      },
      "outputs": [],
      "source": [
        "df.drop('Unnamed: 0',axis=1,inplace=True)"
      ]
    },
    {
      "cell_type": "markdown",
      "metadata": {
        "id": "2h_LEbVJK3m1"
      },
      "source": [
        "Salary Parsing"
      ]
    },
    {
      "cell_type": "code",
      "execution_count": null,
      "metadata": {
        "id": "28IYRkLNK3m2",
        "outputId": "fdfc7d00-95ed-4da3-971e-ab7f29c4bea7"
      },
      "outputs": [
        {
          "data": {
            "text/plain": [
              "(956, 14)"
            ]
          },
          "execution_count": 21,
          "metadata": {},
          "output_type": "execute_result"
        }
      ],
      "source": [
        "df.shape"
      ]
    },
    {
      "cell_type": "code",
      "execution_count": null,
      "metadata": {
        "id": "8zXWGqQvK3m2"
      },
      "outputs": [],
      "source": [
        "df=df[df['Salary Estimate']!='-1'] # Few salaries contain -1 so those values are not of much importance to us so let's remove them.\n",
        "# As the salary estimate column is in string right now so we have to give it in string format"
      ]
    },
    {
      "cell_type": "code",
      "execution_count": null,
      "metadata": {
        "id": "4mOs5UikK3m2",
        "outputId": "70a4f542-6eaa-442d-e8bb-e50e82ad77aa"
      },
      "outputs": [
        {
          "data": {
            "text/plain": [
              "(742, 14)"
            ]
          },
          "execution_count": 10,
          "metadata": {},
          "output_type": "execute_result"
        }
      ],
      "source": [
        "df.shape # So 956 rows get reduced down to 742 rows"
      ]
    },
    {
      "cell_type": "code",
      "execution_count": null,
      "metadata": {
        "id": "SYoDEszDK3m3",
        "outputId": "cbaef255-4838-4fd4-c61b-4cf2baafbce6"
      },
      "outputs": [
        {
          "data": {
            "text/plain": [
              "Job Title             object\n",
              "Salary Estimate       object\n",
              "Job Description       object\n",
              "Rating               float64\n",
              "Company Name          object\n",
              "Location              object\n",
              "Headquarters          object\n",
              "Size                  object\n",
              "Founded                int64\n",
              "Type of ownership     object\n",
              "Industry              object\n",
              "Sector                object\n",
              "Revenue               object\n",
              "Competitors           object\n",
              "dtype: object"
            ]
          },
          "execution_count": 11,
          "metadata": {},
          "output_type": "execute_result"
        }
      ],
      "source": [
        "df.dtypes"
      ]
    },
    {
      "cell_type": "code",
      "execution_count": null,
      "metadata": {
        "id": "wUzupB9wK3m3"
      },
      "outputs": [],
      "source": [
        "# So the next thing is removing the (Glassdoor est.) from the salary estiate column, so we can do that by 2 methods\n",
        "# We can either do it using regular expressions and remove that part or else split on the left parantheses so that the left part will be remaining and the right part will be removed\n",
        "# Or else we can replace those particular strings with empty values"
      ]
    },
    {
      "cell_type": "code",
      "execution_count": null,
      "metadata": {
        "id": "A5Uz1-w_K3m3",
        "outputId": "03c7e81d-108e-4835-ea69-afd48af232d3"
      },
      "outputs": [
        {
          "data": {
            "text/plain": [
              "0     $53K-$91K \n",
              "1    $63K-$112K \n",
              "2     $80K-$90K \n",
              "3     $56K-$97K \n",
              "4    $86K-$143K \n",
              "Name: Salary Estimate, dtype: object"
            ]
          },
          "execution_count": 13,
          "metadata": {},
          "output_type": "execute_result"
        }
      ],
      "source": [
        "salary = df['Salary Estimate'].apply(lambda x:x.split('(')[0])  # Removing (Glassdoor est.) from the values\n",
        "salary.head()"
      ]
    },
    {
      "cell_type": "code",
      "execution_count": null,
      "metadata": {
        "id": "Q6dkud42K3m3",
        "outputId": "c6e50707-dc67-4f04-aac2-bb9c4de6d613"
      },
      "outputs": [
        {
          "data": {
            "text/plain": [
              "0     53-91 \n",
              "1    63-112 \n",
              "2     80-90 \n",
              "3     56-97 \n",
              "4    86-143 \n",
              "Name: Salary Estimate, dtype: object"
            ]
          },
          "execution_count": 15,
          "metadata": {},
          "output_type": "execute_result"
        }
      ],
      "source": [
        "minus_kd = salary.apply(lambda x:x.replace('K','').replace('$','')) # So here 53 implies $53K(53,000 dollars)-just to simplify it we ignore the K,$ symbols\n",
        "minus_kd.head()"
      ]
    },
    {
      "cell_type": "code",
      "execution_count": null,
      "metadata": {
        "id": "_YRlk5KDK3m4"
      },
      "outputs": [],
      "source": [
        "min_hr = minus_kd.apply(lambda x:x.lower().replace('per hour','').replace('employer provided salary:',''))          # Now we shouldn't have employer provided or per hour salaries"
      ]
    },
    {
      "cell_type": "code",
      "execution_count": null,
      "metadata": {
        "id": "6S2ccK8PK3m4"
      },
      "outputs": [],
      "source": [
        "df['min_salary'] = min_hr.apply(lambda x: int(x.split('-')[0]))                                                   # returns the list containing all the salaries present on the left hand side \n",
        "df['max_salary'] = min_hr.apply(lambda x: int(x.split('-')[1]))                                                   # returns the list containing all the salaries present on the right hand side "
      ]
    },
    {
      "cell_type": "code",
      "execution_count": null,
      "metadata": {
        "id": "5W8bmc74K3m4",
        "outputId": "5241ee35-a9c1-42cd-d928-90019a400f2f"
      },
      "outputs": [
        {
          "data": {
            "text/plain": [
              "dtype('int64')"
            ]
          },
          "execution_count": 20,
          "metadata": {},
          "output_type": "execute_result"
        }
      ],
      "source": [
        "df['min_salary'].dtype"
      ]
    },
    {
      "cell_type": "code",
      "execution_count": null,
      "metadata": {
        "id": "VoPQ_32eK3m4",
        "outputId": "e40bc667-ae0f-4717-dd04-1f4610bd92a6"
      },
      "outputs": [
        {
          "data": {
            "text/plain": [
              "0     72.0\n",
              "1     87.5\n",
              "2     85.0\n",
              "3     76.5\n",
              "4    114.5\n",
              "Name: avg_salary, dtype: float64"
            ]
          },
          "execution_count": 21,
          "metadata": {},
          "output_type": "execute_result"
        }
      ],
      "source": [
        "df['avg_salary'] = (df.min_salary + df.max_salary)/2                                                                    # So now this becomes our dependent varible(we want to predict the salary of a particular person)\n",
        "df['avg_salary'].head()"
      ]
    },
    {
      "cell_type": "markdown",
      "metadata": {
        "id": "Mv34jmKCK3m5"
      },
      "source": [
        "Company Name has to be displayed in text only"
      ]
    },
    {
      "cell_type": "code",
      "execution_count": null,
      "metadata": {
        "id": "cqx8ZaxsK3m5"
      },
      "outputs": [],
      "source": [
        "df['company_txt'] = df.apply(lambda x: x['Company Name'] if x['Rating'] <0 else x['Company Name'][:-3], axis = 1)\n",
        "# We have few columns where the rating given is -1 so it doesn't have any meaning so that's why we take all those rows where the rating as -1 and then add the Company Name into a seperate column)"
      ]
    },
    {
      "cell_type": "code",
      "execution_count": null,
      "metadata": {
        "id": "DSWSCySxK3m5"
      },
      "outputs": [],
      "source": [
        "df['company_txt']=df['company_txt'].apply(lambda x:x.replace('\\n','')) # Replace the \\n with an empty string "
      ]
    },
    {
      "cell_type": "markdown",
      "metadata": {
        "id": "GCFFTifQK3m5"
      },
      "source": [
        "State Field"
      ]
    },
    {
      "cell_type": "code",
      "execution_count": null,
      "metadata": {
        "id": "TDJdyw15K3m5"
      },
      "outputs": [],
      "source": [
        "# Tells us the state where the job openings are present in"
      ]
    },
    {
      "cell_type": "code",
      "execution_count": null,
      "metadata": {
        "id": "E1-myM4hK3m6"
      },
      "outputs": [],
      "source": [
        "df['job_state']=df['Location'].apply(lambda x:x.split(',')[1]) # So we are splitting on the comma(,) so now this returns a list of all the states where the job openings are present\n",
        "# Here if we give [0] then we get all the places in which job openings are present"
      ]
    },
    {
      "cell_type": "code",
      "execution_count": null,
      "metadata": {
        "id": "xRuYoZdnK3m6",
        "outputId": "b63bc60d-12db-42a9-de4c-41654e11b277"
      },
      "outputs": [
        {
          "data": {
            "text/plain": [
              " CA             151\n",
              " MA             103\n",
              " NY              72\n",
              " VA              41\n",
              " IL              40\n",
              " MD              35\n",
              " PA              33\n",
              " TX              28\n",
              " WA              21\n",
              " NC              21\n",
              " NJ              17\n",
              " FL              16\n",
              " OH              14\n",
              " TN              13\n",
              " CO              11\n",
              " DC              11\n",
              " UT              10\n",
              " IN              10\n",
              " WI              10\n",
              " MO               9\n",
              " AZ               9\n",
              " AL               8\n",
              " DE               6\n",
              " KY               6\n",
              " MI               6\n",
              " GA               6\n",
              " CT               5\n",
              " IA               5\n",
              " LA               4\n",
              " NE               4\n",
              " OR               4\n",
              " NM               3\n",
              " KS               3\n",
              " ID               2\n",
              " MN               2\n",
              " Los Angeles      1\n",
              " SC               1\n",
              " RI               1\n",
              "Name: job_state, dtype: int64"
            ]
          },
          "execution_count": 41,
          "metadata": {},
          "output_type": "execute_result"
        }
      ],
      "source": [
        "df.job_state.value_counts()  # Here we get to know the number of jobs are present in each state"
      ]
    },
    {
      "cell_type": "code",
      "execution_count": null,
      "metadata": {
        "id": "kBbKPywYK3m6"
      },
      "outputs": [],
      "source": [
        "# Now we want to see if the job is present at the Headquarters or not"
      ]
    },
    {
      "cell_type": "code",
      "execution_count": null,
      "metadata": {
        "id": "Dw7PNzZMK3m6"
      },
      "outputs": [],
      "source": [
        "df['same_state']=df.apply(lambda x: 1 if x.Location==x.Headquarters else 0,axis=1) # This returns the list of states where the job openings are located in the headquarters,we want to compare the rows so that's why we put axis=1\n",
        "# If the job openings present in the headquarters then we get a 1 or else a 0"
      ]
    },
    {
      "cell_type": "markdown",
      "metadata": {
        "id": "yd326L4_K3m7"
      },
      "source": [
        "Age of Company"
      ]
    },
    {
      "cell_type": "code",
      "execution_count": null,
      "metadata": {
        "id": "GGwjUbG-K3m7"
      },
      "outputs": [],
      "source": [
        "# To find the age of the company we can subtract the year founded from the present year and if -1 is present then leave it"
      ]
    },
    {
      "cell_type": "code",
      "execution_count": null,
      "metadata": {
        "id": "iAXD0QF9K3m7"
      },
      "outputs": [],
      "source": [
        "df['age']=df.Founded.apply(lambda x: 1 if x<0 else 2020-x)"
      ]
    },
    {
      "cell_type": "markdown",
      "metadata": {
        "id": "zG-Sce2TK3m7"
      },
      "source": [
        "Parsing of Job Descriptions-so we look for some of the relevant fields for our data analysis"
      ]
    },
    {
      "cell_type": "code",
      "execution_count": null,
      "metadata": {
        "id": "TAfYIqfiK3m7",
        "outputId": "f839a04f-638c-43bb-f6bb-8842fc352148"
      },
      "outputs": [
        {
          "data": {
            "text/plain": [
              "'Data Scientist\\nLocation: Albuquerque, NM\\nEducation Required: Bachelor’s degree required, preferably in math, engineering, business, or the sciences.\\nSkills Required:\\nBachelor’s Degree in relevant field, e.g., math, data analysis, database, computer science, Artificial Intelligence (AI); three years’ experience credit for Master’s degree; five years’ experience credit for a Ph.D\\nApplicant should be proficient in the use of Power BI, Tableau, Python, MATLAB, Microsoft Word, PowerPoint, Excel, and working knowledge of MS Access, LMS, SAS, data visualization tools, and have a strong algorithmic aptitude\\nExcellent verbal and written communication skills, and quantitative analytical skills are required\\nApplicant must be able to work in a team environment\\nU.S. citizenship and ability to obtain a DoD Secret Clearance required\\nResponsibilities: The applicant will be responsible for formulating analytical solutions to complex data problems; creating data analytic models to improve data metrics; analyzing customer behavior and trends; delivering insights to stakeholders, as well as designing and crafting reports, dashboards, models, and algorithms to make data insights actionable; selecting features, building and optimizing classifiers using machine learning techniques; data mining using state-of-the-art methods, extending organization’s data with third party sources of information when needed; enhancing data collection procedures to include information that is relevant for building analytic systems; processing, cleansing, and verifying the integrity of data used for analysis; doing ad-hoc analysis and presenting results in a clear manner; and creating automated anomaly detection systems and constant tracking of its performance.\\nBenefits:\\nWe offer competitive salaries commensurate with education and experience. We have an excellent benefits package that includes:\\nComprehensive health, dental, life, long and short term disability insurance\\n100% Company funded Retirement Plans\\nGenerous vacation, holiday and sick pay plans\\nTuition assistance\\n\\nBenefits are provided to employees regularly working a minimum of 30 hours per week.\\n\\nTecolote Research is a private, employee-owned corporation where people are our primary resource. Our investments in technology and training give our employees the tools to ensure our clients are provided the solutions they need, and our very high employee retention rate and stable workforce is an added value to our customers. Apply now to connect with a company that invests in you.'"
            ]
          },
          "execution_count": 27,
          "metadata": {},
          "output_type": "execute_result"
        }
      ],
      "source": [
        "df['Job Description'][0]"
      ]
    },
    {
      "cell_type": "code",
      "execution_count": null,
      "metadata": {
        "id": "Do_8OTcxK3m7"
      },
      "outputs": [],
      "source": [
        "# So we look for the main data science tools required which are Python,R,Apache Spark,Excel"
      ]
    },
    {
      "cell_type": "code",
      "execution_count": null,
      "metadata": {
        "id": "puAU9bRzK3m8",
        "outputId": "df7fe3ce-da12-465e-eb22-d70eeeba0b1f"
      },
      "outputs": [
        {
          "data": {
            "text/plain": [
              "1    392\n",
              "0    350\n",
              "Name: python, dtype: int64"
            ]
          },
          "execution_count": 29,
          "metadata": {},
          "output_type": "execute_result"
        }
      ],
      "source": [
        "df['python']=df['Job Description'].apply(lambda x:1 if 'python' in x.lower() else 0)\n",
        "df['python'].value_counts() # So out of the 742 companies 392 comapanies require python and the other 350 have not included python which is actually shocking becuase python is the most preferred programming language for data science"
      ]
    },
    {
      "cell_type": "code",
      "execution_count": null,
      "metadata": {
        "id": "81bkBsuJK3m8",
        "outputId": "c12a588a-b19c-425b-8d51-e31d41ae3dd4"
      },
      "outputs": [
        {
          "data": {
            "text/plain": [
              "0    740\n",
              "1      2\n",
              "Name: r_studio, dtype: int64"
            ]
          },
          "execution_count": 30,
          "metadata": {},
          "output_type": "execute_result"
        }
      ],
      "source": [
        "df['r_studio']=df['Job Description'].apply(lambda x:1 if 'r studio' in x.lower() or 'r-studio' in x.lower() else 0)\n",
        "df['r_studio'].value_counts()"
      ]
    },
    {
      "cell_type": "code",
      "execution_count": null,
      "metadata": {
        "id": "YdOQ6Z4UK3m8",
        "outputId": "bf0d796f-3db0-4a3b-faa2-54b06d2ca840"
      },
      "outputs": [
        {
          "data": {
            "text/plain": [
              "0    575\n",
              "1    167\n",
              "Name: spark, dtype: int64"
            ]
          },
          "execution_count": 31,
          "metadata": {},
          "output_type": "execute_result"
        }
      ],
      "source": [
        "df['spark']=df['Job Description'].apply(lambda x:1 if 'spark' in x.lower() else 0)\n",
        "df['spark'].value_counts() # So many companies require Apache Spark as well"
      ]
    },
    {
      "cell_type": "code",
      "execution_count": null,
      "metadata": {
        "id": "pCtnm6KaK3m8",
        "outputId": "9cc1f12b-e0d4-434a-a860-f108995a2928"
      },
      "outputs": [
        {
          "data": {
            "text/plain": [
              "0    566\n",
              "1    176\n",
              "Name: aws, dtype: int64"
            ]
          },
          "execution_count": 32,
          "metadata": {},
          "output_type": "execute_result"
        }
      ],
      "source": [
        "df['aws']=df['Job Description'].apply(lambda x:1 if 'aws' in x.lower() else 0)\n",
        "df['aws'].value_counts() # Similarly most of the companies focus on one of the most famous cloud computing platforms which is Amazon Web Services"
      ]
    },
    {
      "cell_type": "code",
      "execution_count": null,
      "metadata": {
        "id": "YPRRj-QbK3m8",
        "outputId": "ab77c0e5-ec20-463c-b9f5-a2fead1dfb9f"
      },
      "outputs": [
        {
          "data": {
            "text/plain": [
              "1    388\n",
              "0    354\n",
              "Name: excel, dtype: int64"
            ]
          },
          "execution_count": 33,
          "metadata": {},
          "output_type": "execute_result"
        }
      ],
      "source": [
        "df['excel']=df['Job Description'].apply(lambda x:1 if 'excel' in x.lower() else 0)\n",
        "df['excel'].value_counts() # Excel is not much required as data scientists do not use Excel these days"
      ]
    },
    {
      "cell_type": "code",
      "execution_count": null,
      "metadata": {
        "id": "rlxA9kVJK3m8",
        "outputId": "b10210cb-79d7-4519-b77b-98803dfde343"
      },
      "outputs": [
        {
          "data": {
            "text/plain": [
              "Index(['Job Title', 'Salary Estimate', 'Job Description', 'Rating',\n",
              "       'Company Name', 'Location', 'Headquarters', 'Size', 'Founded',\n",
              "       'Type of ownership', 'Industry', 'Sector', 'Revenue', 'Competitors',\n",
              "       'min_salary', 'max_salary', 'avg_salary', 'company_txt', 'same_state',\n",
              "       'age', 'python', 'r_studio', 'spark', 'aws', 'excel'],\n",
              "      dtype='object')"
            ]
          },
          "execution_count": 34,
          "metadata": {},
          "output_type": "execute_result"
        }
      ],
      "source": [
        "df.columns"
      ]
    },
    {
      "cell_type": "code",
      "execution_count": null,
      "metadata": {
        "id": "Z5Up-q31K3m9"
      },
      "outputs": [],
      "source": [
        "df.to_csv('salary_data_cleaned.csv',index = False) # Exporting it to a csv file"
      ]
    }
  ],
  "metadata": {
    "kernelspec": {
      "display_name": "Python 3",
      "language": "python",
      "name": "python3"
    },
    "language_info": {
      "codemirror_mode": {
        "name": "ipython",
        "version": 3
      },
      "file_extension": ".py",
      "mimetype": "text/x-python",
      "name": "python",
      "nbconvert_exporter": "python",
      "pygments_lexer": "ipython3",
      "version": "3.7.4"
    },
    "colab": {
      "provenance": []
    }
  },
  "nbformat": 4,
  "nbformat_minor": 0
}